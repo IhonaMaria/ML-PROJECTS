{
 "cells": [
  {
   "cell_type": "markdown",
   "id": "8c92c97c",
   "metadata": {},
   "source": [
    "# 1.COVID-19 DEATHS ESTIMATION"
   ]
  },
  {
   "cell_type": "markdown",
   "id": "e6cd8182",
   "metadata": {},
   "source": [
    "## Introduction"
   ]
  },
  {
   "cell_type": "markdown",
   "id": "28f71d37",
   "metadata": {},
   "source": [
    "The covid-19 pandemy has been a world-wide health crises that unfortunately affected all of us. \n",
    "Therefore, in this project, we will use covid-19 data that was acquired from Kaggle (https://www.kaggle.com/datasets/harshghadiya/covid-19-country-statistics-dataset) in order to predict the total deaths worldwide given the total covid-19 cases.   \n",
    "To do this prediction, we will use a Linear regression trained model because it is a type of regression algorithm used for predicting continuous numeric values."
   ]
  },
  {
   "cell_type": "markdown",
   "id": "d27f83e6",
   "metadata": {},
   "source": [
    "## Imports and data visualization"
   ]
  },
  {
   "cell_type": "code",
   "execution_count": 23,
   "id": "2a800da7",
   "metadata": {},
   "outputs": [],
   "source": [
    "import pandas as pd\n",
    "import os\n",
    "import numpy as np\n",
    "from sklearn.model_selection import train_test_split\n",
    "from sklearn.preprocessing import RobustScaler\n",
    "from sklearn.metrics import f1_score\n",
    "import matplotlib.pyplot as plt\n",
    "%matplotlib inline\n",
    "from sklearn.pipeline import Pipeline\n",
    "from sklearn.preprocessing import RobustScaler\n",
    "from sklearn.impute import SimpleImputer"
   ]
  },
  {
   "cell_type": "code",
   "execution_count": 10,
   "id": "3f1977ef",
   "metadata": {},
   "outputs": [],
   "source": [
    "\n",
    "import pandas as pd\n",
    "import numpy as np\n",
    "from sklearn.model_selection import train_test_split\n",
    "from sklearn.preprocessing import RobustScaler\n",
    "from sklearn.compose import ColumnTransformer\n",
    "from sklearn.preprocessing import OneHotEncoder\n",
    "from sklearn.pipeline import Pipeline\n",
    "from sklearn.preprocessing import RobustScaler\n",
    "from sklearn.impute import SimpleImputer\n",
    "from sklearn.base import BaseEstimator, TransformerMixin"
   ]
  },
  {
   "cell_type": "code",
   "execution_count": 11,
   "id": "a4dec9e9",
   "metadata": {},
   "outputs": [],
   "source": [
    "#If we read the dataset witout processing, we get an error that indicates that there are more fields \n",
    "#in line 2 of the csv file than expected. One way to fix this would be to manually check the csv file and \n",
    "#ensure that each row has exactly 14 fields. However, I made this code to automate the process: \n",
    "\n",
    "\n",
    "#This script reads in the covid19.csv file, checks the number of fields in each row, and removes any extra fields. \n",
    "#It then writes the cleaned data to a new file called covid19_cleaned.csv. \n",
    "\n",
    "import csv\n",
    "\n",
    "# Open the csv file\n",
    "with open('datasets/covid19.csv', 'r') as f:\n",
    "    reader = csv.reader(f)\n",
    "    header = next(reader)  # skip the header row\n",
    "    rows = []\n",
    "    for row in reader:\n",
    "        # Check the number of fields in the row\n",
    "        if len(row) == 14:\n",
    "            rows.append(row)\n",
    "        else:\n",
    "            # Remove any extra fields\n",
    "            rows.append(row[:14])\n",
    "\n",
    "# Write the cleaned data to a new file\n",
    "with open('datasets/covid19_cleaned.csv', 'w', newline='') as f:\n",
    "    writer = csv.writer(f)\n",
    "    writer.writerow(header)\n",
    "    writer.writerows(rows)\n"
   ]
  },
  {
   "cell_type": "code",
   "execution_count": 13,
   "id": "3700a5d6",
   "metadata": {},
   "outputs": [
    {
     "data": {
      "text/html": [
       "<div>\n",
       "<style scoped>\n",
       "    .dataframe tbody tr th:only-of-type {\n",
       "        vertical-align: middle;\n",
       "    }\n",
       "\n",
       "    .dataframe tbody tr th {\n",
       "        vertical-align: top;\n",
       "    }\n",
       "\n",
       "    .dataframe thead th {\n",
       "        text-align: right;\n",
       "    }\n",
       "</style>\n",
       "<table border=\"1\" class=\"dataframe\">\n",
       "  <thead>\n",
       "    <tr style=\"text-align: right;\">\n",
       "      <th></th>\n",
       "      <th>Number</th>\n",
       "      <th>Country</th>\n",
       "      <th>Total Cases</th>\n",
       "      <th>New Cases</th>\n",
       "      <th>Total Deaths</th>\n",
       "      <th>New Deaths</th>\n",
       "      <th>Total Recovered</th>\n",
       "      <th>Active cases</th>\n",
       "      <th>Serious_Critical</th>\n",
       "      <th>Total Cases Per 1m Pop</th>\n",
       "      <th>Deaths Per 1m Pop</th>\n",
       "      <th>Total Tests</th>\n",
       "      <th>Tests Per 1m Pop</th>\n",
       "      <th>Population</th>\n",
       "    </tr>\n",
       "  </thead>\n",
       "  <tbody>\n",
       "    <tr>\n",
       "      <th>0</th>\n",
       "      <td>1</td>\n",
       "      <td>USA</td>\n",
       "      <td>106,613,321</td>\n",
       "      <td>+1,809</td>\n",
       "      <td>1,159,697</td>\n",
       "      <td>35.0</td>\n",
       "      <td>104,533,271</td>\n",
       "      <td>920,353</td>\n",
       "      <td>1,392</td>\n",
       "      <td>318,434</td>\n",
       "      <td>3,464</td>\n",
       "      <td>1,176,758,558</td>\n",
       "      <td>3,514,755</td>\n",
       "      <td>334,805,269</td>\n",
       "    </tr>\n",
       "    <tr>\n",
       "      <th>1</th>\n",
       "      <td>2</td>\n",
       "      <td>India</td>\n",
       "      <td>44,924,811</td>\n",
       "      <td>NaN</td>\n",
       "      <td>531,424</td>\n",
       "      <td>NaN</td>\n",
       "      <td>44,335,977</td>\n",
       "      <td>57,410</td>\n",
       "      <td>NaN</td>\n",
       "      <td>31,938</td>\n",
       "      <td>378</td>\n",
       "      <td>925,077,322</td>\n",
       "      <td>657,654</td>\n",
       "      <td>1,406,631,776</td>\n",
       "    </tr>\n",
       "    <tr>\n",
       "      <th>2</th>\n",
       "      <td>3</td>\n",
       "      <td>France</td>\n",
       "      <td>39,974,426</td>\n",
       "      <td>+6,609</td>\n",
       "      <td>166,425</td>\n",
       "      <td>NaN</td>\n",
       "      <td>39,669,392</td>\n",
       "      <td>138,609</td>\n",
       "      <td>869</td>\n",
       "      <td>609,510</td>\n",
       "      <td>2,538</td>\n",
       "      <td>271,490,188</td>\n",
       "      <td>4,139,547</td>\n",
       "      <td>65,584,518</td>\n",
       "    </tr>\n",
       "    <tr>\n",
       "      <th>3</th>\n",
       "      <td>4</td>\n",
       "      <td>Germany</td>\n",
       "      <td>38,400,766</td>\n",
       "      <td>NaN</td>\n",
       "      <td>172,882</td>\n",
       "      <td>NaN</td>\n",
       "      <td>38,189,800</td>\n",
       "      <td>38,084</td>\n",
       "      <td>NaN</td>\n",
       "      <td>457,786</td>\n",
       "      <td>2,061</td>\n",
       "      <td>122,332,384</td>\n",
       "      <td>1,458,359</td>\n",
       "      <td>83,883,596</td>\n",
       "    </tr>\n",
       "    <tr>\n",
       "      <th>4</th>\n",
       "      <td>5</td>\n",
       "      <td>Brazil</td>\n",
       "      <td>37,449,418</td>\n",
       "      <td>NaN</td>\n",
       "      <td>701,494</td>\n",
       "      <td>NaN</td>\n",
       "      <td>36,249,161</td>\n",
       "      <td>498,763</td>\n",
       "      <td>NaN</td>\n",
       "      <td>173,897</td>\n",
       "      <td>3,257</td>\n",
       "      <td>63,776,166</td>\n",
       "      <td>296,146</td>\n",
       "      <td>215,353,593</td>\n",
       "    </tr>\n",
       "  </tbody>\n",
       "</table>\n",
       "</div>"
      ],
      "text/plain": [
       "   Number  Country  Total Cases New Cases Total Deaths  New Deaths  \\\n",
       "0       1      USA  106,613,321    +1,809    1,159,697        35.0   \n",
       "1       2    India   44,924,811       NaN      531,424         NaN   \n",
       "2       3   France   39,974,426    +6,609      166,425         NaN   \n",
       "3       4  Germany   38,400,766       NaN      172,882         NaN   \n",
       "4       5   Brazil   37,449,418       NaN      701,494         NaN   \n",
       "\n",
       "  Total Recovered Active cases Serious_Critical Total Cases Per 1m Pop  \\\n",
       "0     104,533,271      920,353            1,392                318,434   \n",
       "1      44,335,977       57,410              NaN                 31,938   \n",
       "2      39,669,392      138,609              869                609,510   \n",
       "3      38,189,800       38,084              NaN                457,786   \n",
       "4      36,249,161      498,763              NaN                173,897   \n",
       "\n",
       "  Deaths Per 1m Pop    Total Tests Tests Per 1m Pop     Population  \n",
       "0             3,464  1,176,758,558        3,514,755    334,805,269  \n",
       "1               378    925,077,322          657,654  1,406,631,776  \n",
       "2             2,538    271,490,188        4,139,547     65,584,518  \n",
       "3             2,061    122,332,384        1,458,359     83,883,596  \n",
       "4             3,257     63,776,166          296,146    215,353,593  "
      ]
     },
     "execution_count": 13,
     "metadata": {},
     "output_type": "execute_result"
    }
   ],
   "source": [
    "df = pd.read_csv('datasets/covid19_cleaned.csv')\n",
    "df.head()"
   ]
  },
  {
   "cell_type": "markdown",
   "id": "f0196188",
   "metadata": {},
   "source": [
    "## Data preparation"
   ]
  },
  {
   "cell_type": "markdown",
   "id": "3e9c1b87",
   "metadata": {},
   "source": [
    "Since we already know that we are going to use the Linear regression algorithm, there are a few data processing steps recommended to use in order to have an accurate and robust linear regression model for our project. The main ones are:\n",
    "\n",
    "-Data Cleaning: Remove or impute missing or null values, remove duplicate records, and handle outliers.\n",
    "\n",
    "-Feature Selection: Select the relevant features that are predictive of the target variable (in our case we will ony take into consideration the \"Total Cases\" and \"Total Deaths\" features). \n",
    "\n",
    "-Feature Scaling: Linear regression works better when the input features are on the same scale. Therefore, it is recommended to apply feature scaling to the input features such as standardization or normalization.\n",
    "\n",
    "-Handling Categorical Variables: Convert categorical variables into numerical values using techniques such as one-hot encoding, label encoding, or binary encoding (in our case it won't be necessary).\n",
    "\n",
    "-Train-Test Split: Split the data into training and testing datasets. The training dataset is used to train the linear regression model, and the testing dataset is used to evaluate the performance of the model.\n"
   ]
  },
  {
   "cell_type": "code",
   "execution_count": 73,
   "id": "ac24b8d8",
   "metadata": {},
   "outputs": [],
   "source": [
    "df2 = df.loc[:, [\"Total Cases\", \"Total Deaths\"]] #We only select these two columns"
   ]
  },
  {
   "cell_type": "code",
   "execution_count": 74,
   "id": "84c1e888",
   "metadata": {},
   "outputs": [],
   "source": [
    "#Python detects the numbers of the dataframes as strings but they are numbers in reality. Here's how we change it:\n",
    "df2[\"Total Cases\"] = df2[\"Total Cases\"].replace(\",\", \"\", regex=True).astype(float)\n",
    "df2[\"Total Deaths\"] = df2[\"Total Deaths\"].replace(\",\", \"\", regex=True).astype(float)"
   ]
  },
  {
   "cell_type": "markdown",
   "id": "443f51ba",
   "metadata": {},
   "source": [
    "A **transformer** is a class in scikit-learn that takes an input dataset and transforms it into an output dataset. Transformers are typically used to process and clean data, convert categorical variables to numerical ones, normalize or scale numerical variables, or any other necessary data transformation to prepare the data for modeling. In this case, we will build a personalized transformer to delete null values and scale the data. "
   ]
  },
  {
   "cell_type": "code",
   "execution_count": 75,
   "id": "23ce6cba",
   "metadata": {},
   "outputs": [],
   "source": [
    "# Transformer created to delete those rows with null values\n",
    "from sklearn.base import BaseEstimator, TransformerMixin\n",
    "\n",
    "class DeleteNanRows(BaseEstimator, TransformerMixin):\n",
    "    def __init__(self):\n",
    "        pass\n",
    "    def fit(self, X, y=None):\n",
    "        return self\n",
    "    def transform(self, X, y=None):\n",
    "        return X.dropna()\n",
    "\n",
    "# Transformer created to scale the selected columns\n",
    "class CustomScaler(BaseEstimator, TransformerMixin):\n",
    "    def __init__(self, attributes):\n",
    "        self.attributes = attributes\n",
    "    def fit(self, X, y=None):\n",
    "        return self  # nothing else to do\n",
    "    def transform(self, X, y=None):\n",
    "        X_copy = X.copy()\n",
    "        scale_attrs = X_copy[self.attributes]\n",
    "        robust_scaler = RobustScaler()\n",
    "        X_scaled = robust_scaler.fit_transform(scale_attrs)\n",
    "        X_scaled = pd.DataFrame(X_scaled, columns=self.attributes, index=X_copy.index)\n",
    "        for attr in self.attributes:\n",
    "            X_copy[attr] = X_scaled[attr]\n",
    "        return X_copy"
   ]
  },
  {
   "cell_type": "markdown",
   "id": "d43233d7",
   "metadata": {},
   "source": [
    "On the other hand, a **pipeline** is a sequence of one or more transformers and a final estimator that are used to process data and train a machine learning model. Custom pipelines allow for the combination of different transformers and a final estimator into an ordered sequence of steps, making it easier to automate the modeling process. Like transformers, custom pipelines are also used to process and transform input data, but they also include a machine learning model as part of the process.In this, case, we will build a personalized pipeline to execute the 2 transformers created before. "
   ]
  },
  {
   "cell_type": "code",
   "execution_count": 76,
   "id": "96123bf5",
   "metadata": {},
   "outputs": [],
   "source": [
    "#This pipeline applies the transformators and saves the result in X_transformed. \n",
    "\n",
    "from sklearn.pipeline import Pipeline\n",
    "\n",
    "pipeline = Pipeline([    ('delete_nan_rows', DeleteNanRows()),    ('custom_scaler', CustomScaler(attributes=['Total Cases', 'Total Deaths']))\n",
    "])\n",
    "\n",
    "X_transformed = pipeline.fit_transform(df2)"
   ]
  },
  {
   "cell_type": "code",
   "execution_count": 77,
   "id": "75f7e779",
   "metadata": {},
   "outputs": [
    {
     "data": {
      "text/html": [
       "<div>\n",
       "<style scoped>\n",
       "    .dataframe tbody tr th:only-of-type {\n",
       "        vertical-align: middle;\n",
       "    }\n",
       "\n",
       "    .dataframe tbody tr th {\n",
       "        vertical-align: top;\n",
       "    }\n",
       "\n",
       "    .dataframe thead th {\n",
       "        text-align: right;\n",
       "    }\n",
       "</style>\n",
       "<table border=\"1\" class=\"dataframe\">\n",
       "  <thead>\n",
       "    <tr style=\"text-align: right;\">\n",
       "      <th></th>\n",
       "      <th>Total Cases</th>\n",
       "      <th>Total Deaths</th>\n",
       "    </tr>\n",
       "  </thead>\n",
       "  <tbody>\n",
       "    <tr>\n",
       "      <th>0</th>\n",
       "      <td>81.667634</td>\n",
       "      <td>74.195971</td>\n",
       "    </tr>\n",
       "    <tr>\n",
       "      <th>1</th>\n",
       "      <td>34.310313</td>\n",
       "      <td>33.920124</td>\n",
       "    </tr>\n",
       "    <tr>\n",
       "      <th>2</th>\n",
       "      <td>30.509979</td>\n",
       "      <td>10.521628</td>\n",
       "    </tr>\n",
       "    <tr>\n",
       "      <th>3</th>\n",
       "      <td>29.301904</td>\n",
       "      <td>10.935558</td>\n",
       "    </tr>\n",
       "    <tr>\n",
       "      <th>4</th>\n",
       "      <td>28.571569</td>\n",
       "      <td>44.822572</td>\n",
       "    </tr>\n",
       "    <tr>\n",
       "      <th>5</th>\n",
       "      <td>25.685170</td>\n",
       "      <td>4.626601</td>\n",
       "    </tr>\n",
       "    <tr>\n",
       "      <th>6</th>\n",
       "      <td>23.719535</td>\n",
       "      <td>2.061926</td>\n",
       "    </tr>\n",
       "    <tr>\n",
       "      <th>7</th>\n",
       "      <td>19.601789</td>\n",
       "      <td>12.006122</td>\n",
       "    </tr>\n",
       "    <tr>\n",
       "      <th>8</th>\n",
       "      <td>18.673206</td>\n",
       "      <td>14.080645</td>\n",
       "    </tr>\n",
       "    <tr>\n",
       "      <th>9</th>\n",
       "      <td>17.351023</td>\n",
       "      <td>25.380227</td>\n",
       "    </tr>\n",
       "  </tbody>\n",
       "</table>\n",
       "</div>"
      ],
      "text/plain": [
       "   Total Cases  Total Deaths\n",
       "0    81.667634     74.195971\n",
       "1    34.310313     33.920124\n",
       "2    30.509979     10.521628\n",
       "3    29.301904     10.935558\n",
       "4    28.571569     44.822572\n",
       "5    25.685170      4.626601\n",
       "6    23.719535      2.061926\n",
       "7    19.601789     12.006122\n",
       "8    18.673206     14.080645\n",
       "9    17.351023     25.380227"
      ]
     },
     "execution_count": 77,
     "metadata": {},
     "output_type": "execute_result"
    }
   ],
   "source": [
    "X_transformed.head(10) #Here we can see the result of the data after the transformations and processing done. "
   ]
  },
  {
   "cell_type": "code",
   "execution_count": 78,
   "id": "01f0b919",
   "metadata": {},
   "outputs": [],
   "source": [
    "#We create a function to divide the data\n",
    "\n",
    "def train_val_test_split(df, rstate=42, shuffle=True, stratify=None):\n",
    "    strat = df[stratify] if stratify else None\n",
    "    train_set, test_set = train_test_split(\n",
    "        df, test_size=0.4, random_state=rstate, shuffle=shuffle, stratify=strat)\n",
    "    strat = test_set[stratify] if stratify else None\n",
    "    val_set, test_set = train_test_split(\n",
    "        test_set, test_size=0.5, random_state=rstate, shuffle=shuffle, stratify=strat)\n",
    "    return (train_set, val_set, test_set)"
   ]
  },
  {
   "cell_type": "code",
   "execution_count": 79,
   "id": "7abc75f8",
   "metadata": {},
   "outputs": [],
   "source": [
    "train_set, val_set, test_set = train_val_test_split(X_transformed)"
   ]
  },
  {
   "cell_type": "code",
   "execution_count": 80,
   "id": "79bc7d34",
   "metadata": {},
   "outputs": [
    {
     "name": "stdout",
     "output_type": "stream",
     "text": [
      "The length of the training set is: 128\n",
      "The length of the validation set is: 43\n",
      "The length of the test set is: 43\n"
     ]
    }
   ],
   "source": [
    "print(\"The length of the training set is:\", len(train_set))\n",
    "print(\"The length of the validation set is:\", len(val_set))\n",
    "print(\"The length of the test set is:\", len(test_set))"
   ]
  },
  {
   "cell_type": "code",
   "execution_count": 53,
   "id": "f0eee2ff",
   "metadata": {},
   "outputs": [],
   "source": [
    "# We divide the data and separe it from the label:\n",
    "\n",
    "X_df = X_transformed.drop(\"Total Deaths\", axis=1)\n",
    "y_df = X_transformed[\"Total Deaths\"].copy()\n",
    "\n",
    "X_train = train_set.drop(\"Total Deaths\", axis=1)\n",
    "y_train = train_set[\"Total Deaths\"].copy()\n",
    "\n",
    "X_val = val_set.drop(\"Total Deaths\", axis=1)\n",
    "y_val = val_set[\"Total Deaths\"].copy()\n",
    "\n",
    "X_test = test_set.drop(\"Total Deaths\", axis=1)\n",
    "y_test = test_set[\"Total Deaths\"].copy()\n",
    "\n"
   ]
  },
  {
   "cell_type": "markdown",
   "id": "2abca147",
   "metadata": {},
   "source": [
    "## Algorithm training"
   ]
  },
  {
   "cell_type": "markdown",
   "id": "7dd8a2f0",
   "metadata": {},
   "source": [
    "As it was mentioned before, we will use the Linear regression to train our model. It is a type of regression algorithm used for predicting continuous numeric values."
   ]
  },
  {
   "cell_type": "code",
   "execution_count": 81,
   "id": "17d36a14",
   "metadata": {},
   "outputs": [],
   "source": [
    "from sklearn.linear_model import LinearRegression\n",
    "from sklearn.metrics import mean_squared_error, r2_score"
   ]
  },
  {
   "cell_type": "code",
   "execution_count": 82,
   "id": "2633c54e",
   "metadata": {},
   "outputs": [
    {
     "data": {
      "text/plain": [
       "LinearRegression()"
      ]
     },
     "execution_count": 82,
     "metadata": {},
     "output_type": "execute_result"
    }
   ],
   "source": [
    "#We train the model with the training set\n",
    "regressor = LinearRegression()\n",
    "regressor.fit(X_train, y_train)"
   ]
  },
  {
   "cell_type": "code",
   "execution_count": 83,
   "id": "a57aa0e8",
   "metadata": {},
   "outputs": [],
   "source": [
    "y_pred = regressor.predict(X_test)"
   ]
  },
  {
   "cell_type": "code",
   "execution_count": 61,
   "id": "0ecd416b",
   "metadata": {},
   "outputs": [
    {
     "data": {
      "text/plain": [
       "-0.14519636518058165"
      ]
     },
     "execution_count": 61,
     "metadata": {},
     "output_type": "execute_result"
    }
   ],
   "source": [
    "# theta 0 parameter of the equation\n",
    "regressor.intercept_"
   ]
  },
  {
   "cell_type": "code",
   "execution_count": 84,
   "id": "b833b895",
   "metadata": {},
   "outputs": [
    {
     "data": {
      "text/plain": [
       "array([0.81975565])"
      ]
     },
     "execution_count": 84,
     "metadata": {},
     "output_type": "execute_result"
    }
   ],
   "source": [
    "# theta 1 parameter of the equation\n",
    "regressor.coef_"
   ]
  },
  {
   "cell_type": "code",
   "execution_count": 85,
   "id": "08a3897a",
   "metadata": {},
   "outputs": [
    {
     "name": "stderr",
     "output_type": "stream",
     "text": [
      "C:\\Users\\Ihona\\anaconda3\\lib\\site-packages\\sklearn\\base.py:450: UserWarning: X does not have valid feature names, but LinearRegression was fitted with feature names\n",
      "  warnings.warn(\n"
     ]
    }
   ],
   "source": [
    "# Prdiction for the minimum and maximum value from the trained dataset\n",
    "X_min_max = np.array([[X_transformed[\"Total Cases\"].min()], [X_transformed[\"Total Cases\"].max()]])\n",
    "y_train_pred = regressor.predict(X_min_max)"
   ]
  },
  {
   "cell_type": "code",
   "execution_count": 86,
   "id": "0e82cad6",
   "metadata": {},
   "outputs": [
    {
     "data": {
      "image/png": "[encoded data removed]",
      "text/plain": [
       "<Figure size 640x480 with 1 Axes>"
      ]
     },
     "metadata": {},
     "output_type": "display_data"
    }
   ],
   "source": [
    "# Graphic representation of the hypothesis function created\n",
    "plt.plot(X_min_max, y_train_pred, \"g-\")\n",
    "plt.plot(X_transformed['Total Cases'], X_transformed['Total Deaths'], \"b.\")\n",
    "plt.xlabel(\"Total Cases\")\n",
    "plt.ylabel(\"Total Deaths\")\n",
    "plt.show()"
   ]
  },
  {
   "cell_type": "code",
   "execution_count": 88,
   "id": "aa793095",
   "metadata": {},
   "outputs": [
    {
     "name": "stdout",
     "output_type": "stream",
     "text": [
      "Mean Square Error:  3.64104158378124\n",
      "R2 coefficient:  0.7555390593455421\n"
     ]
    }
   ],
   "source": [
    "#We can evaluate our results by calculating this parameters:\n",
    "\n",
    "print(\"Mean Square Error: \", mean_squared_error(y_test, y_pred))\n",
    "print(\"R2 coefficient: \", r2_score(y_test, y_pred))\n",
    "\n",
    "#The parameters seem reasonable"
   ]
  },
  {
   "cell_type": "markdown",
   "id": "f0bf0974",
   "metadata": {},
   "source": [
    "## Prediction of a new example"
   ]
  },
  {
   "cell_type": "markdown",
   "id": "95900899",
   "metadata": {},
   "source": [
    "Now that we have our model trained, we can predict the total deaths from the total covid cases. This could be useful in order to estimate how many deaths there would be if infections increased. We have to remember that our data has been scaled. "
   ]
  },
  {
   "cell_type": "code",
   "execution_count": 90,
   "id": "a8ace8ef",
   "metadata": {},
   "outputs": [
    {
     "name": "stdout",
     "output_type": "stream",
     "text": [
      "[61.3364772]\n"
     ]
    },
    {
     "name": "stderr",
     "output_type": "stream",
     "text": [
      "C:\\Users\\Ihona\\anaconda3\\lib\\site-packages\\sklearn\\base.py:450: UserWarning: X does not have valid feature names, but LinearRegression was fitted with feature names\n",
      "  warnings.warn(\n"
     ]
    }
   ],
   "source": [
    "X_new = np.array([[75]]) #Let's suppose the total covid cases increase up to 75\n",
    "y_pred = regressor.predict(X_new) #y_pred returns us the total deaths with an increase of 75 covid cases\n",
    "print(y_pred)"
   ]
  },
  {
   "cell_type": "code",
   "execution_count": 94,
   "id": "863f14b2",
   "metadata": {},
   "outputs": [
    {
     "data": {
      "image/png": "[encoded data removed]",
      "text/plain": [
       "<Figure size 640x480 with 1 Axes>"
      ]
     },
     "metadata": {},
     "output_type": "display_data"
    }
   ],
   "source": [
    "#Let's plot the prediction\n",
    "\n",
    "plt.plot(X_transformed['Total Cases'], X_transformed['Total Deaths'], \"b.\")\n",
    "plt.plot(X_min_max, y_train_pred, \"g-\")\n",
    "plt.plot(X_new, y_pred, \"rx\")\n",
    "plt.xlabel(\"Equipos afectados\")\n",
    "plt.ylabel(\"Coste del incidente\")\n",
    "plt.show()"
   ]
  },
  {
   "cell_type": "markdown",
   "id": "a321adcd",
   "metadata": {},
   "source": [
    "## Conclusions"
   ]
  },
  {
   "cell_type": "markdown",
   "id": "1753bbf9",
   "metadata": {},
   "source": [
    "In this exercise we have realized the power of a basic machine learning algorithm such as linear regression for prediction. In this particular case, the prediction of the deaths due to the increase of covid-19 cases could be crutial for applying social-distancing or other restrictons that could save people's lives. "
   ]
  }
 ],
 "metadata": {
  "kernelspec": {
   "display_name": "Python 3 (ipykernel)",
   "language": "python",
   "name": "python3"
  },
  "language_info": {
   "codemirror_mode": {
    "name": "ipython",
    "version": 3
   },
   "file_extension": ".py",
   "mimetype": "text/x-python",
   "name": "python",
   "nbconvert_exporter": "python",
   "pygments_lexer": "ipython3",
   "version": "3.9.13"
  }
 },
 "nbformat": 4,
 "nbformat_minor": 5
}
